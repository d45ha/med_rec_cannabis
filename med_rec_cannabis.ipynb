{
 "cells": [
  {
   "cell_type": "code",
   "execution_count": null,
   "id": "a240bcb8-6496-440a-9f5a-45821df2e0dd",
   "metadata": {},
   "outputs": [],
   "source": [
    "#import packages\n",
    "import os \n",
    "import pandas as pd\n",
    "import numpy as np\n",
    "from sklearn.model_selection import train_test_split\n",
    "import tensorflow as tf\n",
    "from tensorflow import keras\n",
    "import keras_tuner as kt\n",
    "import IPython\n",
    "import matplotlib.pyplot as plt\n",
    "\n",
    "accuracies = [] #new list for metric tracking"
   ]
  },
  {
   "cell_type": "code",
   "execution_count": null,
   "id": "8114ef4a-817a-4c76-89e0-dcf61959a296",
   "metadata": {},
   "outputs": [],
   "source": [
    "data = pd.read_csv('dummydata.csv') #read data as dataframe "
   ]
  },
  {
   "cell_type": "code",
   "execution_count": null,
   "id": "30797b3b-63f3-41bf-885d-d1e8b85d0cd4",
   "metadata": {},
   "outputs": [],
   "source": [
    "target = pd.read_csv('dummydata_target.csv', na_values=\"NaN\") #read category labels at dataframe "
   ]
  },
  {
   "cell_type": "code",
   "execution_count": null,
   "id": "4248a850-ed8b-42fd-be07-dd2dce685858",
   "metadata": {},
   "outputs": [],
   "source": [
    "#convert data and target dataframes to numpy arrays\n",
    "X = data.to_numpy()\n",
    "y = target.to_numpy()\n",
    "y = y.flatten() "
   ]
  },
  {
   "cell_type": "code",
   "execution_count": null,
   "id": "1a54f963-3b34-48ee-a40d-6852f02d4a74",
   "metadata": {},
   "outputs": [],
   "source": [
    "#split data into test and train sets \n",
    "from sklearn.model_selection import train_test_split\n",
    "X_train, X_test, y_train, y_test = train_test_split(X, y) "
   ]
  },
  {
   "cell_type": "code",
   "execution_count": null,
   "id": "e7fe9e06-a5b1-4851-a36e-def34de77cc9",
   "metadata": {},
   "outputs": [],
   "source": [
    "train = tf.data.Dataset.from_tensor_slices((X_train, y_train)) #convert input data to tensorflow dataset\n",
    "train = train.repeat().shuffle(1000).batch(32) #repeat dataset, shuffle in batches of 1000 and batch examples for training \n",
    "test = tf.data.Dataset.from_tensor_slices((X_test, y_test)).batch(1) #convert test data to tensorflow dataset and batch"
   ]
  },
  {
   "cell_type": "code",
   "execution_count": null,
   "id": "05d5c2af-2c1a-4201-842e-8359d9c5464d",
   "metadata": {},
   "outputs": [],
   "source": [
    "#defining sequential model with 8 input nodes, 3 hidden layers and 3 output nodes \n",
    "b_model = tf.keras.Sequential() #sequential model \n",
    "b_model.add(tf.keras.layers.Flatten(input_shape=(8,))) \n",
    "b_model.add(tf.keras.layers.Dense(64, activation='relu')) \n",
    "b_model.add(tf.keras.layers.Dense(48, activation='relu')) \n",
    "b_model.add(tf.keras.layers.Dense(32, activation='relu'))  \n",
    "b_model.add(tf.keras.layers.Dense(3, activation='softmax')) \n",
    "\n",
    "#configure model  \n",
    "b_model.compile(\n",
    "    optimizer='adam', \n",
    "    loss='sparse_categorical_crossentropy', \n",
    "    metrics=['accuracy']) "
   ]
  },
  {
   "cell_type": "code",
   "execution_count": null,
   "id": "95a4b603-446c-422f-8c7b-4611c8508aea",
   "metadata": {},
   "outputs": [],
   "source": [
    "#train model \n",
    "b_model.fit(\n",
    "    train,\n",
    "    validation_data=test,\n",
    "    steps_per_epoch=150,\n",
    "    epochs=10,\n",
    ")"
   ]
  },
  {
   "cell_type": "code",
   "execution_count": null,
   "id": "ba22c79c-aca4-4913-9483-b8d8e7267646",
   "metadata": {},
   "outputs": [],
   "source": [
    "#add final accuracy score from training to metric tracking list \n",
    "b_model_accuracies = b_model.history.history['val_accuracy']  \n",
    "last_b_model_accuracy = b_model_accuracies[-1]\n",
    "accuracies.append(last_b_model_accuracy) "
   ]
  },
  {
   "cell_type": "code",
   "execution_count": null,
   "id": "9bf9fc83-6818-401a-8e07-92d9ed23009e",
   "metadata": {},
   "outputs": [],
   "source": [
    "#define hypermodel builder with 8 input nodes, 3 hidden layers with optimised number of units, and 3 output nodes\n",
    "def build_hypermodel(hp):\n",
    "    model = tf.keras.Sequential() \n",
    "    model.add(tf.keras.layers.Flatten(input_shape=(8,))) \n",
    "    model.add(tf.keras.layers.Dense(units=hp.Int(name='units_1', min_value=16, max_value=256, step=16), activation='relu')) #tune number of units in first layer between 16-256\n",
    "    model.add(tf.keras.layers.Dense(hp.Int(name='units_2', min_value=1, max_value=256, step=16), activation='relu')) #tune number of units in second layer\n",
    "    model.add(tf.keras.layers.Dense(hp.Int(name='units_3', min_value=1, max_value=256, step=16), activation='relu')) #tune number of units in third layer \n",
    "    model.add(tf.keras.layers.Dense(3, activation='softmax'))\n",
    "    model.compile( #configure model \n",
    "        optimizer='adam',\n",
    "        loss='sparse_categorical_crossentropy',\n",
    "        metrics=['accuracy'])\n",
    "    return model"
   ]
  },
  {
   "cell_type": "code",
   "execution_count": null,
   "id": "9ecdb373-8df8-4b2e-b58e-10aec5e5e9c4",
   "metadata": {},
   "outputs": [],
   "source": [
    "#tuner initialisation \n",
    "tuner = kt.RandomSearch(hypermodel=build_hypermodel,\n",
    "                        objective='val_loss',\n",
    "                        max_trials=25,\n",
    "                        directory=os.path.normpath(os.getcwd()),\n",
    "                        project_name='u')"
   ]
  },
  {
   "cell_type": "code",
   "execution_count": null,
   "id": "06a2d55d-2e43-4ea2-a37a-fb38c826a0e1",
   "metadata": {},
   "outputs": [],
   "source": [
    "es = tf.keras.callbacks.EarlyStopping(monitor='loss', patience=3) #define callback to stop search early\n",
    "tuner.search(X_train, y_train, epochs=20, validation_data=(X_test, y_test), verbose=2, callbacks=[es]) #search for best hyperparameters (number of units per layer)\n",
    "\n",
    "best_hps=tuner.get_best_hyperparameters()[0] #get best hyperparameters from search \n",
    "\n",
    "#print best number of units per layer \n",
    "print(f\"\"\"\n",
    "The hyperparameter search is complete. The optimal number of units in the first densely-connected\n",
    "layer is {best_hps.get('units_1')}. The optimal number of units in the second densely-connected\n",
    "layer is {best_hps.get('units_2')}. The optimal number of units in the third densely-connected\n",
    "layer is {best_hps.get('units_3')}.\n",
    "\"\"\")"
   ]
  },
  {
   "cell_type": "code",
   "execution_count": null,
   "id": "d28f5035-396c-4111-b24b-3e4f8e399107",
   "metadata": {},
   "outputs": [],
   "source": [
    "#build hypermodel with best hyperparameters \n",
    "u_model = tuner.hypermodel.build(best_hps)"
   ]
  },
  {
   "cell_type": "code",
   "execution_count": null,
   "id": "8e2a24df-ef9b-4ecb-9286-93dabe554d36",
   "metadata": {},
   "outputs": [],
   "source": [
    "#train hypertuned model\n",
    "u_model.fit(\n",
    "    train,\n",
    "    validation_data=test,\n",
    "    steps_per_epoch=150,\n",
    "    epochs=10,\n",
    ")"
   ]
  },
  {
   "cell_type": "code",
   "execution_count": null,
   "id": "45cf28a4-ba41-42cc-b861-8fbb0ee6c8f3",
   "metadata": {},
   "outputs": [],
   "source": [
    "#add final accuracy score from training to metric tracking list \n",
    "u_model_accuracies = u_model.history.history['val_accuracy']  \n",
    "last_u_model_accuracy = u_model_accuracies[-1]\n",
    "accuracies.append(last_u_model_accuracy) "
   ]
  },
  {
   "cell_type": "code",
   "execution_count": null,
   "id": "ae58afc3-00e1-468b-86b3-b0ba100c5f95",
   "metadata": {},
   "outputs": [],
   "source": [
    "#define hypermodel builder with 8 input nodes, 3 hidden layers with optimised number of units and optimised activation function, and 3 output nodes\n",
    "def build_hypermodel(hp):\n",
    "    model = tf.keras.Sequential()\n",
    "    model.add(tf.keras.layers.Flatten(input_shape=(8,)))\n",
    "    model.add(tf.keras.layers.Dense(units=hp.Int(name='units_1', min_value=16, max_value=256, step=16), activation=hp.Choice(name='a_1', values=['relu','tanh','elu','selu','swish']))) #tune activation function and number of units in first layer between 16-256 \n",
    "    model.add(tf.keras.layers.Dense(hp.Int(name='units_2', min_value=1, max_value=256, step=16), activation=hp.Choice(name='a_2', values=['relu','tanh','elu','selu','swish']))) #tune activation function and number of units in second layer\n",
    "    model.add(tf.keras.layers.Dense(hp.Int(name='units_3', min_value=1, max_value=256, step=16), activation=hp.Choice(name='a_3', values=['relu','tanh','elu','selu','swish']))) #tune activation function and number of units in third layer\n",
    "    model.add(tf.keras.layers.Dense(3, activation='softmax'))\n",
    "    model.compile( #configure model \n",
    "        optimizer='adam',\n",
    "        loss='sparse_categorical_crossentropy', \n",
    "        metrics=['accuracy'])  \n",
    "    return model"
   ]
  },
  {
   "cell_type": "code",
   "execution_count": null,
   "id": "f07a3562-2480-4cd6-bfbd-7f1919c3e4a2",
   "metadata": {},
   "outputs": [],
   "source": [
    "#tuner initialisation \n",
    "tuner = kt.RandomSearch(hypermodel=build_hypermodel,\n",
    "                        objective='val_loss',\n",
    "                        max_trials=25,\n",
    "                        directory=os.path.normpath(os.getcwd()), #save output to current working directory\n",
    "                        project_name='a') #output folder named 'a'"
   ]
  },
  {
   "cell_type": "code",
   "execution_count": null,
   "id": "075324e9-fdba-4f6f-a22f-3549dc4b4c0e",
   "metadata": {},
   "outputs": [],
   "source": [
    "#clears training output cell once a Keras-Tuner trial is complete\n",
    "class ClearTrainingOutput(tf.keras.callbacks.Callback):\n",
    "    def on_train_end(*args, **kwargs):\n",
    "        IPython.display.clear_output(wait = True)\n",
    "\n",
    "#search for best hyperparameters (number of units and activation function per layer)\n",
    "tuner.search(X_train, y_train, epochs=20, validation_data=(X_test, y_test), verbose=2, callbacks=[es, ClearTrainingOutput()])\n",
    "\n",
    "best_hps = tuner.get_best_hyperparameters(num_trials = 1)[0] #get best hyperparameters from search \n",
    "\n",
    "#print best activation function per layer \n",
    "print(f\"\"\"\n",
    "The hyperparameter search is complete. The optimal activation function for the first densely-connected\n",
    "layer is {best_hps.get('a_1')}. The optimal activation function for the second densely-connected\n",
    "layer is {best_hps.get('a_2')}. The optimal activation function for the third densely-connected\n",
    "layer is {best_hps.get('a_3')}.\n",
    "\"\"\")"
   ]
  },
  {
   "cell_type": "code",
   "execution_count": null,
   "id": "12b33339-e4c2-480b-a9a5-4c4eadc80f4b",
   "metadata": {},
   "outputs": [],
   "source": [
    "#build hypermodel with best hyperparameters \n",
    "a_model = tuner.hypermodel.build(best_hps)"
   ]
  },
  {
   "cell_type": "code",
   "execution_count": null,
   "id": "7f0047cd-e2f7-4ab6-9288-2e66805597de",
   "metadata": {},
   "outputs": [],
   "source": [
    "#train hypertuned model\n",
    "a_model.fit(\n",
    "    train,\n",
    "    validation_data=test,\n",
    "    steps_per_epoch=150,\n",
    "    epochs=10,\n",
    ")"
   ]
  },
  {
   "cell_type": "code",
   "execution_count": null,
   "id": "ffdf1d8f-ac27-40e4-bfdb-72d3dbaa0ec9",
   "metadata": {},
   "outputs": [],
   "source": [
    "#add final accuracy score from training to metric tracking list \n",
    "a_model_accuracies = a_model.history.history['val_accuracy']  \n",
    "last_a_model_accuracy = a_model_accuracies[-1]\n",
    "accuracies.append(last_a_model_accuracy) "
   ]
  },
  {
   "cell_type": "code",
   "execution_count": null,
   "id": "02fdc3fb-a61d-41a3-90e4-778bd1fc299c",
   "metadata": {},
   "outputs": [],
   "source": [
    "#plot bar chart with accuracy values for each model \n",
    "labels = ['Baseline', 'Tuned Units', 'Tuned Activation']\n",
    "x_pos = [i for i, _ in enumerate(labels)]\n",
    "plt.bar(x_pos, accuracies, color='green')\n",
    "plt.ylabel(\"Accuracy\")\n",
    "plt.xticks(x_pos, labels)\n",
    "\n",
    "plt.show()"
   ]
  },
  {
   "cell_type": "code",
   "execution_count": null,
   "id": "7f829810-4999-4f0c-89a1-9f402f8b4b8c",
   "metadata": {},
   "outputs": [],
   "source": [
    "target_names = np.array(['exclusively recreational', 'some medical', 'exclusively medical']) #specifies category labels\n",
    "\n",
    "#true labels and values of novel samples for predicting category membership\n",
    "predict_true_labels = [\"exclusively recreational\", \"some medical\", \"exclusively medical\"]\n",
    "predict_X = [\n",
    "    [21, 0, 50, 2, 1, 0.75, 1, 0], #exclusively recreational cannabis user\n",
    "    [30, 0, 200, 5, 5, 10, 0, 1], #sometimes medical cannabis user\n",
    "    [62, 1, 360, 6, 13, 20, 0, 1], #exclusively recreational cannabis user \n",
    "]\n",
    "\n",
    "#b model predicts category labels \n",
    "predictions = b_model.predict(predict_X)\n",
    "\n",
    "[target_names[p.argmax()] for p in predictions]\n",
    "\n",
    "#for each sample print predicted category labels with probability values and expected category labels\n",
    "for pred_dict, expected in zip(predictions, predict_true_labels):\n",
    "    predicted_index = pred_dict.argmax()\n",
    "    predicted = target_names[predicted_index]\n",
    "    probability = pred_dict.max()\n",
    "    tick_cross = \"✓\" if predicted == expected else \"✗\"\n",
    "    print(f\"{tick_cross} B model prediction is '{predicted}' ({100 * probability:.1f}%), expected '{expected}'\")"
   ]
  },
  {
   "cell_type": "code",
   "execution_count": null,
   "id": "fe99063f-e5f5-44d9-b30e-8550c3c2230e",
   "metadata": {},
   "outputs": [],
   "source": [
    "target_names = np.array(['exclusively recreational', 'some medical', 'exclusively medical']) #specifies category labels\n",
    "\n",
    "#true labels and values of novel samples for predicting category membership\n",
    "predict_true_labels = [\"exclusively recreational\", \"some medical\", \"exclusively medical\"]\n",
    "predict_X = [\n",
    "    [21, 0, 50, 2, 1, 0.75, 1, 0],\n",
    "    [30, 0, 200, 5, 5, 10, 0, 1],\n",
    "    [62, 1, 360, 6, 13, 20, 0, 1],\n",
    "]\n",
    "\n",
    "#u model predicts category labels \n",
    "predictions = u_model.predict(predict_X)\n",
    "\n",
    "[target_names[p.argmax()] for p in predictions]\n",
    "\n",
    "#for each sample print predicted category labels with probability values and expected category labels\n",
    "for pred_dict, expected in zip(predictions, predict_true_labels):\n",
    "    predicted_index = pred_dict.argmax()\n",
    "    predicted = target_names[predicted_index]\n",
    "    probability = pred_dict.max()\n",
    "    tick_cross = \"✓\" if predicted == expected else \"✗\"\n",
    "    print(f\"{tick_cross} U model prediction is '{predicted}' ({100 * probability:.1f}%), expected '{expected}'\")"
   ]
  },
  {
   "cell_type": "code",
   "execution_count": null,
   "id": "66a599aa-9f43-4d5c-af00-49c587a96e87",
   "metadata": {},
   "outputs": [],
   "source": [
    "target_names = np.array(['exclusively recreational', 'some medical', 'exclusively medical']) #specifies category labels\n",
    "\n",
    "#true labels and values of novel samples for predicting category membership\n",
    "predict_true_labels = [\"exclusively recreational\", \"some medical\", \"exclusively medical\"]\n",
    "predict_X = [\n",
    "    [21, 0, 50, 2, 1, 0.75, 1, 0],\n",
    "    [30, 0, 200, 5, 5, 10, 0, 1],\n",
    "    [62, 1, 360, 6, 13, 20, 0, 1],\n",
    "]\n",
    "\n",
    "#a model predicts category labels \n",
    "predictions = a_model.predict(predict_X)\n",
    "\n",
    "[target_names[p.argmax()] for p in predictions]\n",
    "\n",
    "#for each sample print predicted category labels with probability values and expected category labels\n",
    "for pred_dict, expected in zip(predictions, predict_true_labels):\n",
    "    predicted_index = pred_dict.argmax()\n",
    "    predicted = target_names[predicted_index]\n",
    "    probability = pred_dict.max()\n",
    "    tick_cross = \"✓\" if predicted == expected else \"✗\"\n",
    "    print(f\"{tick_cross} A model prediction is '{predicted}' ({100 * probability:.1f}%), expected '{expected}'\")"
   ]
  },
  {
   "cell_type": "code",
   "execution_count": null,
   "id": "064a0e90-ed1d-4a3b-961d-e2e43410f5d1",
   "metadata": {},
   "outputs": [],
   "source": []
  }
 ],
 "metadata": {
  "kernelspec": {
   "display_name": "Python 3 (ipykernel)",
   "language": "python",
   "name": "python3"
  },
  "language_info": {
   "codemirror_mode": {
    "name": "ipython",
    "version": 3
   },
   "file_extension": ".py",
   "mimetype": "text/x-python",
   "name": "python",
   "nbconvert_exporter": "python",
   "pygments_lexer": "ipython3",
   "version": "3.8.12"
  }
 },
 "nbformat": 4,
 "nbformat_minor": 5
}
